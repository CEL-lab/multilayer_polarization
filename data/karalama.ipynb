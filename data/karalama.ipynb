{
 "cells": [
  {
   "cell_type": "code",
   "execution_count": 7,
   "metadata": {},
   "outputs": [
    {
     "data": {
      "text/plain": [
       "118"
      ]
     },
     "execution_count": 7,
     "metadata": {},
     "output_type": "execute_result"
    }
   ],
   "source": [
    "import pandas as pd\n",
    "# Load data from CSV\n",
    "finalTable = pd.read_csv('finalTable.csv', dtype=str)\n",
    "\n",
    "# Replace with your list of user ids\n",
    "author_id = finalTable['author_id'].unique().tolist()\n",
    "twitter_id = finalTable['twitter_id'].unique().tolist()\n",
    "\n",
    "#combine two list\n",
    "user_ids = author_id + twitter_id\n",
    "\n",
    "# get uniwue user_ids\n",
    "user_ids = list(set(user_ids))\n"
   ]
  }
 ],
 "metadata": {
  "kernelspec": {
   "display_name": "Python 3",
   "language": "python",
   "name": "python3"
  },
  "language_info": {
   "codemirror_mode": {
    "name": "ipython",
    "version": 3
   },
   "file_extension": ".py",
   "mimetype": "text/x-python",
   "name": "python",
   "nbconvert_exporter": "python",
   "pygments_lexer": "ipython3",
   "version": "3.10.11"
  },
  "orig_nbformat": 4
 },
 "nbformat": 4,
 "nbformat_minor": 2
}
